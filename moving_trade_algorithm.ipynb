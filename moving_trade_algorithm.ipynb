{
  "nbformat": 4,
  "nbformat_minor": 0,
  "metadata": {
    "colab": {
      "provenance": [],
      "authorship_tag": "ABX9TyN35SxeAeOOhkcwY8uBQsfO",
      "include_colab_link": true
    },
    "kernelspec": {
      "name": "python3",
      "display_name": "Python 3"
    },
    "language_info": {
      "name": "python"
    }
  },
  "cells": [
    {
      "cell_type": "markdown",
      "metadata": {
        "id": "view-in-github",
        "colab_type": "text"
      },
      "source": [
        "<a href=\"https://colab.research.google.com/github/dynamo13007/dynamo13007/blob/main/moving_trade_algorithm.ipynb\" target=\"_parent\"><img src=\"https://colab.research.google.com/assets/colab-badge.svg\" alt=\"Open In Colab\"/></a>"
      ]
    },
    {
      "cell_type": "markdown",
      "source": [
        "In the above code, the moving_average_convergence_divergence function takes three arguments: the prices time series and the short_window, long_window and signal_window for the MACD calculation. It first calculates the mean of the last short_window prices, and last long_window prices, which represent the short and long exponential moving average (EMA) respectively. Then it calculates the MACD line as the difference between the short_ema and long_ema. Then it calculates the signal line as the mean of the last signal_window prices. Finally, it calculates the histogram as the difference between the MACD and the signal line.\n",
        "\n"
      ],
      "metadata": {
        "id": "HnTZy5MAWSdu"
      }
    },
    {
      "cell_type": "code",
      "execution_count": 2,
      "metadata": {
        "colab": {
          "base_uri": "https://localhost:8080/"
        },
        "id": "pGSA9N2geLUk",
        "outputId": "1cf258cc-a544-47ef-8e01-5769ed3b7a65"
      },
      "outputs": [
        {
          "output_type": "stream",
          "name": "stdout",
          "text": [
            "[2.0, 3.0, 4.0, 5.0, 6.0, 7.0, 8.0, 9.0]\n"
          ]
        }
      ],
      "source": [
        "def moving_average(data, window):\n",
        "    moving_average_list = []\n",
        "    for i in range(len(data) - window + 1):\n",
        "        moving_average_list.append(sum(data[i:i+window])/window)\n",
        "    return moving_average_list\n",
        "\n",
        "data = [1, 2, 3, 4, 5, 6, 7, 8, 9, 10]\n",
        "window = 3\n",
        "print(moving_average(data, window))"
      ]
    },
    {
      "cell_type": "markdown",
      "source": [
        "In this code below, the relative_strength_index function takes two arguments: the prices time series and the n period for the RSI calculation. It first calculates the difference between consecutive prices, which gives the gain or loss for each period. It then takes the average of the first n gains and losses, and calculates the relative strength (RS) as the ratio of the average gain to the average loss. Finally, it calculates the RSI as 100 - (100 / (1 + RS))."
      ],
      "metadata": {
        "id": "-mmV2FZwVGxD"
      }
    },
    {
      "cell_type": "code",
      "source": [
        "import numpy as np\n",
        "\n",
        "def relative_strength_index(prices, n=14):\n",
        "    deltas = np.diff(prices)\n",
        "    gain = [delta if delta > 0 else 0 for delta in deltas]\n",
        "    loss = [-delta if delta < 0 else 0 for delta in deltas]\n",
        "    avg_gain = np.mean(gain[:n])\n",
        "    avg_loss = np.mean(loss[:n])\n",
        "    rs = avg_gain / avg_loss\n",
        "    rsi = 100 - (100 / (1 + rs))\n",
        "    return rsi\n",
        "\n",
        "# Example usage\n",
        "prices = [100, 105, 102, 110, 120, 130, 120, 110, 100, 90, 80]\n",
        "rsi = relative_strength_index(prices)\n",
        "print(rsi)"
      ],
      "metadata": {
        "colab": {
          "base_uri": "https://localhost:8080/"
        },
        "id": "hyoKCwZffw7w",
        "outputId": "2502e8de-9aa5-4899-be67-76e9db608ac7"
      },
      "execution_count": 3,
      "outputs": [
        {
          "output_type": "stream",
          "name": "stdout",
          "text": [
            "38.372093023255815\n"
          ]
        }
      ]
    },
    {
      "cell_type": "markdown",
      "source": [
        "In this code below, the moving_average_convergence_divergence function takes three arguments: the prices time series and the short_window, long_window and signal_window for the MACD calculation. It first calculates the exponential moving average (EMA) of the prices over the short_window and long_window. Then it calculates the MACD line as the difference between the short_ema and long_ema. Then it calculates the signal line as the EMA of the MACD over the signal_window. Finally, it calculates the histogram as the difference between the MACD and the signal line."
      ],
      "metadata": {
        "id": "w-mr5HnNVYTA"
      }
    },
    {
      "cell_type": "code",
      "source": [
        "import numpy as np\n",
        "def moving_average_convergence_divergence(prices, short_window=12, long_window=26, signal_window=9):\n",
        "    short_ema = np.mean(prices[-short_window:])\n",
        "    long_ema = np.mean(prices[-long_window:])\n",
        "    macd = short_ema - long_ema\n",
        "    signal = np.mean(prices[-signal_window:])\n",
        "    histogram = macd - signal\n",
        "    return macd, signal, histogram\n",
        "\n"
      ],
      "metadata": {
        "id": "TC1uFf23zE96"
      },
      "execution_count": 1,
      "outputs": []
    },
    {
      "cell_type": "markdown",
      "source": [
        "In the code bellow, the tree.DecisionTreeClassifier() function is used to create a decision tree model. The model is then fit to the training data using the fit method, with the training data and labels passed as arguments. The predict method is then used to make predictions on the test data, and the score method is used to evaluate the accuracy of the model.\n",
        "\n",
        "It's important to note that this is just an example and you may need to adjust it according to your specific use case and data. Additionally, It's important to note that different algorithm may perform better in different market conditions and for different securities."
      ],
      "metadata": {
        "id": "tmL7gsNnWtLw"
      }
    },
    {
      "cell_type": "code",
      "source": [
        "from sklearn import tree\n",
        "from sklearn.model_selection import train_test_split\n",
        "\n",
        "# Example usage\n",
        "X = [[0, 0], [1, 1]]\n",
        "Y = [0, 1]\n",
        "\n",
        "# Split the data into training and test sets\n",
        "X_train, X_test, Y_train, Y_test = train_test_split(X, Y, test_size=0.33)\n",
        "\n",
        "# Create the decision tree model and fit it to the training data\n",
        "clf = tree.DecisionTreeClassifier()\n",
        "clf = clf.fit(X_train, Y_train)\n",
        "\n",
        "# Make predictions on the test data\n",
        "Y_pred = clf.predict(X_test)\n",
        "\n",
        "# Evaluate the model's accuracy\n",
        "accuracy = clf.score(X_test, Y_test)\n",
        "print(\"Accuracy: \",accuracy)"
      ],
      "metadata": {
        "colab": {
          "base_uri": "https://localhost:8080/"
        },
        "id": "7cBZCXpQXFkv",
        "outputId": "c283bdf0-226d-4ab6-a40f-127e332d636c"
      },
      "execution_count": 2,
      "outputs": [
        {
          "output_type": "stream",
          "name": "stdout",
          "text": [
            "Accuracy:  0.0\n"
          ]
        }
      ]
    },
    {
      "cell_type": "markdown",
      "source": [
        "In the code below, the RandomForestClassifier function is used to create a random forest model. The n_estimators parameter is used to specify the number of trees in the forest. The model is then fit to the training data using the fit method, with the training data and labels passed as arguments. The predict method is then used to make predictions on the test data, and the score method is used to evaluate the accuracy of the model."
      ],
      "metadata": {
        "id": "wmtiEEpRaCBS"
      }
    },
    {
      "cell_type": "code",
      "source": [
        "from sklearn.ensemble import RandomForestClassifier\n",
        "from sklearn.model_selection import train_test_split\n",
        "\n",
        "# Example usage\n",
        "X = [[0, 0], [1, 1]]\n",
        "Y = [0, 1]\n",
        "\n",
        "# Split the data into training and test sets\n",
        "X_train, X_test, Y_train, Y_test = train_test_split(X, Y, test_size=0.33)\n",
        "\n",
        "# Create the random forest model and fit it to the training data\n",
        "clf = RandomForestClassifier(n_estimators=100)\n",
        "clf = clf.fit(X_train, Y_train)\n",
        "\n",
        "# Make predictions on the test data\n",
        "Y_pred = clf.predict(X_test)\n",
        "\n",
        "# Evaluate the model's accuracy\n",
        "accuracy = clf.score(X_test, Y_test)\n",
        "print(\"Accuracy: \",accuracy)"
      ],
      "metadata": {
        "colab": {
          "base_uri": "https://localhost:8080/"
        },
        "id": "3ZfzxcyMajQ6",
        "outputId": "3d92ac54-69b8-46ac-b305-324c7d0efc0b"
      },
      "execution_count": 3,
      "outputs": [
        {
          "output_type": "stream",
          "name": "stdout",
          "text": [
            "Accuracy:  0.0\n"
          ]
        }
      ]
    }
  ]
}